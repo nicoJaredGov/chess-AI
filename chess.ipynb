{
 "cells": [
  {
   "cell_type": "code",
   "execution_count": null,
   "metadata": {},
   "outputs": [],
   "source": [
    "#class Agent:"
   ]
  },
  {
   "cell_type": "code",
   "execution_count": null,
   "metadata": {},
   "outputs": [],
   "source": [
    "#class HumanPlayer:"
   ]
  },
  {
   "cell_type": "code",
   "execution_count": null,
   "metadata": {},
   "outputs": [],
   "source": [
    "class ChessGame:\n",
    "    \"A single chess game between two players that can be an agent or human player.\"\n",
    "\n",
    "    def __init__(self, mode=\"human-agent\", agent1=None, agent2=None):\n",
    "        '''\n",
    "        mode:\n",
    "            - \"human-human\" : actions are made by humans for both sides\n",
    "            - \"human-agent\" : a human versus an agent which picks its own actions\n",
    "            - \"agent-agent\" : agent versus another agent\n",
    "        agent1:\n",
    "            Agent initialized for player 1. Needed for modes that are not \"human-human\".\n",
    "        agent2:\n",
    "            Agent initialized for player 2. Needed for \"agent-agent\" mode.\n",
    "\n",
    "        '''\n",
    "\n",
    "        #check if the required agents have been provided for the respective valid game mode.\n",
    "        assert mode in [\"human-human\", \"human-agent\", \"agent-agent\"], \"Invalid mode. Valid modes are 'human-human', 'human-agent', 'agent-agent'.\"\n",
    "        self.checkAgentsValid(mode, agent1!=None, agent2!=None)\n",
    "\n",
    "        #initialize players according to game mode\n",
    "        #TODO Create HumanPlayer class\n",
    "        '''if mode==\"human-human\": \n",
    "            self.player1 = HumanPlayer()\n",
    "            self.player2 = HumanPlayer()\n",
    "        elif mode==\"human-agent\":\n",
    "            self.player1 = agent1\n",
    "            self.player2 = HumanPlayer()\n",
    "        else:\n",
    "            self.player1 = agent1\n",
    "            self.player2 = agent2'''\n",
    "\n",
    "    def checkAgentsValid(self, mode, agent1valid, agent2valid):\n",
    "        #TODO Validate that agents are of type Agent class later on.\n",
    "        assert mode==\"human-agent\" and agent1valid, \"Agent 1 is not initialized but is required for human-agent mode.\"\n",
    "        assert mode==\"agent-agent\" and agent1valid and agent2valid, \"Agent 1 or Agent 2 or both are not initialized and are both required for agent-agent mode.\""
   ]
  },
  {
   "cell_type": "code",
   "execution_count": 4,
   "metadata": {},
   "outputs": [
    {
     "data": {
      "text/plain": [
       "{1, 'b'}"
      ]
     },
     "execution_count": 4,
     "metadata": {},
     "output_type": "execute_result"
    }
   ],
   "source": [
    "a = set([1,'a','b'])\n",
    "a.remove('a')\n",
    "a"
   ]
  }
 ],
 "metadata": {
  "kernelspec": {
   "display_name": "Python 3.7.9 64-bit",
   "language": "python",
   "name": "python3"
  },
  "language_info": {
   "codemirror_mode": {
    "name": "ipython",
    "version": 3
   },
   "file_extension": ".py",
   "mimetype": "text/x-python",
   "name": "python",
   "nbconvert_exporter": "python",
   "pygments_lexer": "ipython3",
   "version": "3.7.9"
  },
  "orig_nbformat": 4,
  "vscode": {
   "interpreter": {
    "hash": "a2a8a77d7403fdb126924c18613820ef642b0f12c0ca1eaff1aa8ec7198d047c"
   }
  }
 },
 "nbformat": 4,
 "nbformat_minor": 2
}
