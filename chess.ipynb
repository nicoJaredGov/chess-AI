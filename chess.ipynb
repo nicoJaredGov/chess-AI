{
 "cells": [
  {
   "cell_type": "code",
   "execution_count": 1,
   "metadata": {},
   "outputs": [],
   "source": [
    "#class Agent:"
   ]
  },
  {
   "cell_type": "code",
   "execution_count": 2,
   "metadata": {},
   "outputs": [],
   "source": [
    "#class HumanPlayer:"
   ]
  },
  {
   "cell_type": "code",
   "execution_count": 3,
   "metadata": {},
   "outputs": [],
   "source": [
    "class ChessGame:\n",
    "    \"A single chess game between two players that can be an agent or human player.\"\n",
    "\n",
    "    #symbols and names\n",
    "    symbols = \"PpRrNnBbQqKk\"\n",
    "    blankSymbol = \"-\"\n",
    "    whitePieces = \"PRNBQK\"\n",
    "    blackPieces = \"prnbqk\"\n",
    "    files = \"abcdefgh\"\n",
    "    fileMap = {'a':7, 'b':6, 'c':5, 'd':4, 'e':3, 'f':2, 'g':1, 'h':0}\n",
    "\n",
    "    def __init__(self, mode=\"human-agent\", agent1=None, agent2=None, show_board=True):\n",
    "        '''\n",
    "        mode:\n",
    "            - \"human-human\" : actions are made by humans for both sides\n",
    "            - \"human-agent\" : a human versus an agent which picks its own actions\n",
    "            - \"agent-agent\" : agent versus another agent\n",
    "        agent1:\n",
    "            Agent initialized for player 1. Needed for modes that are not \"human-human\".\n",
    "        agent2:\n",
    "            Agent initialized for player 2. Needed for \"agent-agent\" mode.\n",
    "\n",
    "        '''\n",
    "\n",
    "        #check if the required agents have been provided for the respective valid game mode.\n",
    "        assert mode in [\"human-human\", \"human-agent\", \"agent-agent\"], \"Invalid mode. Valid modes are 'human-human', 'human-agent', 'agent-agent'.\"\n",
    "        self.checkAgentsValid(mode, agent1!=None, agent2!=None)\n",
    "\n",
    "        #initialize players according to game mode\n",
    "        #TODO Create HumanPlayer class\n",
    "        '''if mode==\"human-human\": \n",
    "            self.player1 = HumanPlayer()\n",
    "            self.player2 = HumanPlayer()\n",
    "        elif mode==\"human-agent\":\n",
    "            self.player1 = agent1\n",
    "            self.player2 = HumanPlayer()\n",
    "        else:\n",
    "            self.player1 = agent1\n",
    "            self.player2 = agent2'''\n",
    "\n",
    "        #set up board\n",
    "        self.showBoard = show_board\n",
    "\n",
    "    def checkAgentsValid(self, mode, agent1valid, agent2valid):\n",
    "        #TODO Validate that agents are of type Agent class later on.\n",
    "        assert mode==\"human-agent\" and agent1valid, \"Agent 1 is not initialized but is required for human-agent mode.\"\n",
    "        assert mode==\"agent-agent\" and agent1valid and agent2valid, \"Agent 1 or Agent 2 or both are not initialized and are both required for agent-agent mode.\"\n",
    "\n",
    "    def initBoard(self):\n",
    "        '''\n",
    "        board outline:\n",
    "        1/h g f e d c b a\n",
    "        2\n",
    "        3\n",
    "        4\n",
    "        5\n",
    "        6\n",
    "        7\n",
    "        8\n",
    "        '''\n",
    "        self.board = [\n",
    "            \"RNBKQBNR\",\n",
    "            \"PPPPPPPP\",\n",
    "            \"--------\",\n",
    "            \"--------\",\n",
    "            \"--------\",\n",
    "            \"--------\",\n",
    "            \"pppppppp\",\n",
    "            \"rnbkqbnr\"\n",
    "        ]\n",
    "\n",
    "        for b in range(8):\n",
    "            self.board[b] = list(b)\n",
    "\n",
    "        self.piecePositions = {\n",
    "            'R': {'h1',  }\n",
    "        }"
   ]
  },
  {
   "cell_type": "code",
   "execution_count": 4,
   "metadata": {},
   "outputs": [
    {
     "data": {
      "text/plain": [
       "{1, 'b'}"
      ]
     },
     "execution_count": 4,
     "metadata": {},
     "output_type": "execute_result"
    }
   ],
   "source": [
    "a = set([1,'a','b'])\n",
    "a.remove('a')\n",
    "a"
   ]
  },
  {
   "cell_type": "code",
   "execution_count": 1,
   "metadata": {},
   "outputs": [
    {
     "data": {
      "text/plain": [
       "'a'"
      ]
     },
     "execution_count": 1,
     "metadata": {},
     "output_type": "execute_result"
    }
   ],
   "source": [
    "symbols = \"PpRrNnBbQqKk\"\n",
    "whitePieces = \"PRNBQK\"\n",
    "blackPieces = \"prnbqk\"\n",
    "files = \"abcdefgh\"\n",
    "fileMap = {'a':0, 'b':1, 'c':2, 'd':3, 'e':4, 'f':5, 'g':6, 'h':7}\n",
    "\n",
    "files[0]"
   ]
  },
  {
   "cell_type": "code",
   "execution_count": 12,
   "metadata": {},
   "outputs": [
    {
     "data": {
      "text/plain": [
       "[['R', 'N', 'B', 'K', 'Q', 'B', 'N', 'R'],\n",
       " [4, 2, 'P', 'P', 'P', 'P', 'P', 'P'],\n",
       " ['-', '-', '-', '-', '-', '-', '-', '-'],\n",
       " ['-', '-', '-', '-', '-', '-', '-', '-'],\n",
       " ['-', '-', '-', '-', '-', '-', '-', '-'],\n",
       " ['-', '-', '-', '-', '-', '-', '-', '-'],\n",
       " ['p', 'p', 'p', 'p', 'p', 'p', 'p', 'p'],\n",
       " ['r', 'n', 'b', 'k', 'q', 'b', 'n', 'r']]"
      ]
     },
     "execution_count": 12,
     "metadata": {},
     "output_type": "execute_result"
    }
   ],
   "source": [
    "board = [\n",
    "            \"RNBKQBNR\",\n",
    "            \"PPPPPPPP\",\n",
    "            \"--------\",\n",
    "            \"--------\",\n",
    "            \"--------\",\n",
    "            \"--------\",\n",
    "            \"pppppppp\",\n",
    "            \"rnbkqbnr\"\n",
    "        ]\n",
    "\n",
    "for b in range(len(board)):\n",
    "    board[b] = list(board[b])"
   ]
  }
 ],
 "metadata": {
  "kernelspec": {
   "display_name": "Python 3.7.9 64-bit",
   "language": "python",
   "name": "python3"
  },
  "language_info": {
   "codemirror_mode": {
    "name": "ipython",
    "version": 3
   },
   "file_extension": ".py",
   "mimetype": "text/x-python",
   "name": "python",
   "nbconvert_exporter": "python",
   "pygments_lexer": "ipython3",
   "version": "3.7.9"
  },
  "orig_nbformat": 4,
  "vscode": {
   "interpreter": {
    "hash": "a2a8a77d7403fdb126924c18613820ef642b0f12c0ca1eaff1aa8ec7198d047c"
   }
  }
 },
 "nbformat": 4,
 "nbformat_minor": 2
}
